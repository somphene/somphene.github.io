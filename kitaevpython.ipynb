{
 "cells": [
  {
   "cell_type": "code",
   "execution_count": 2,
   "metadata": {},
   "outputs": [
    {
     "name": "stdout",
     "output_type": "stream",
     "text": [
      "Using matplotlib backend: MacOSX\n"
     ]
    }
   ],
   "source": [
    "import numpy as np\n",
    "import scipy.linalg as la\n",
    "import matplotlib.pylab as pl\n",
    "%matplotlib"
   ]
  },
  {
   "cell_type": "code",
   "execution_count": 3,
   "metadata": {},
   "outputs": [],
   "source": [
    "def KitaevHam(N,mu,t,delta):\n",
    "    sigmaz = np.eye(2)\n",
    "    sigmaz[1,1] = -1\n",
    "    sigmay = np.zeros((2,2),dtype=complex)\n",
    "    sigmay[0,1]=-1j\n",
    "    sigmay[1,0]=1j\n",
    "    dummy1= mu*np.kron(sigmaz,np.eye(N))\n",
    "    dummy2= t*np.kron(sigmaz,np.eye(N,k=1))\n",
    "    dummy3= 1j*delta*np.kron(sigmay,np.eye(N,k=1))\n",
    "    dummy4 = dummy2+dummy3\n",
    "    dummy4 = dummy4+np.conj(dummy4).T\n",
    "    ham = dummy1 + dummy4\n",
    "    energies, wavefunctions = la.eigh(ham)\n",
    "    return energies,wavefunctions"
   ]
  },
  {
   "cell_type": "code",
   "execution_count": 53,
   "metadata": {},
   "outputs": [],
   "source": [
    "e1,w1=KitaevHam(100,1,0,0)"
   ]
  },
  {
   "cell_type": "code",
   "execution_count": 126,
   "metadata": {},
   "outputs": [],
   "source": [
    "n = 25\n",
    "mu = 0\n",
    "for j in range(1):\n",
    "    spec = np.zeros(100)\n",
    "    spec1 = np.zeros(100)\n",
    "    muval = np.zeros(100)\n",
    "    for i in range(100):\n",
    "        e1,w1 = KitaevHam(n,mu,1,2)\n",
    "        spec[i] = e1[n]\n",
    "        spec1[i] = e1[n-1]\n",
    "        muval[i] = mu\n",
    "        mu = i*0.05\n",
    "    pl.plot(muval,spec)\n",
    "    pl.plot(muval,spec1)"
   ]
  },
  {
   "cell_type": "code",
   "execution_count": 60,
   "metadata": {},
   "outputs": [],
   "source": [
    "#pl.plot(np.abs(w1[99])**2)\n",
    "for i in range(200):\n",
    "    if(e1[i]==0):\n",
    "        print (\"No\")\n",
    "    "
   ]
  },
  {
   "cell_type": "code",
   "execution_count": 122,
   "metadata": {},
   "outputs": [],
   "source": [
    "def KSpaceHam(k,mu,t,delta):\n",
    "    sigmaz = np.eye(2)\n",
    "    sigmaz[1,1] = -1\n",
    "    sigmay = np.zeros((2,2),dtype=complex)\n",
    "    sigmay[0,1]=-1j\n",
    "    sigmay[1,0]=1j\n",
    "    ham = (-2*t*np.cos(k)-mu)*sigmaz + 2*delta*np.sin(k)*sigmay\n",
    "    return ham\n",
    "#KSpaceHam(-1,1,1,1)"
   ]
  },
  {
   "cell_type": "code",
   "execution_count": 130,
   "metadata": {},
   "outputs": [
    {
     "data": {
      "text/plain": [
       "[<matplotlib.lines.Line2D at 0x1154cdc50>]"
      ]
     },
     "execution_count": 130,
     "metadata": {},
     "output_type": "execute_result"
    }
   ],
   "source": [
    "spec = np.zeros(100)\n",
    "spec1 = np.zeros(100)\n",
    "v=np.pi\n",
    "kval = np.linspace(-v , v , 100)\n",
    "for i in range(100):\n",
    "    e1, w1 = la.eigh(KSpaceHam(kval[i],-2,1,1))\n",
    "    spec[i] = e1[0]\n",
    "    spec1[i] = e1[1]\n",
    "pl.plot(kval,spec) \n",
    "pl.plot(kval,spec1)\n"
   ]
  },
  {
   "cell_type": "code",
   "execution_count": 117,
   "metadata": {},
   "outputs": [],
   "source": []
  },
  {
   "cell_type": "code",
   "execution_count": null,
   "metadata": {},
   "outputs": [],
   "source": []
  }
 ],
 "metadata": {
  "kernelspec": {
   "display_name": "Python 3",
   "language": "python",
   "name": "python3"
  },
  "language_info": {
   "codemirror_mode": {
    "name": "ipython",
    "version": 3
   },
   "file_extension": ".py",
   "mimetype": "text/x-python",
   "name": "python",
   "nbconvert_exporter": "python",
   "pygments_lexer": "ipython3",
   "version": "3.6.4"
  }
 },
 "nbformat": 4,
 "nbformat_minor": 2
}
