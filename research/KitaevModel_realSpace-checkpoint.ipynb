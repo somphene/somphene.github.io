{
 "cells": [
  {
   "cell_type": "code",
   "execution_count": 77,
   "metadata": {},
   "outputs": [
    {
     "name": "stdout",
     "output_type": "stream",
     "text": [
      "Using matplotlib backend: Qt5Agg\n"
     ]
    }
   ],
   "source": [
    "import numpy as np\n",
    "import scipy.linalg as la\n",
    "import matplotlib.pylab as pl\n",
    "%matplotlib"
   ]
  },
  {
   "cell_type": "code",
   "execution_count": 78,
   "metadata": {},
   "outputs": [],
   "source": [
    "# KITAEV CHAIN\n",
    "def KitaevChainSpectrum(N, t, delta, pbc):\n",
    "    '''\n",
    "    Calculate the (BdG/Nambu) spectrum of a Kitaev chain, nn hopping -t, nn pairing delta\n",
    "    with or without periodic boundary conditions.\n",
    "    '''\n",
    "\n",
    "    h11 = -t * np.eye(N, k=1)\n",
    "    h11 += h11.T\n",
    "\n",
    "    h21 = np.conjugate(delta) * np.eye(N, k=1)\n",
    "\n",
    "    if pbc:\n",
    "        h11[0, -1] = -t\n",
    "        h11[-1, 0] = -t\n",
    "        h21[0, -1] = np.conjugate(delta)\n",
    "        h21[-1, 0] = np.conjugate(delta)\n",
    "\n",
    "    ham = np.hstack((np.vstack((h11, h21)), np.vstack((h21.T.conj(), -h11.T))))\n",
    "    \n",
    "    print(ham)\n",
    "    \n",
    "    evals, evecs = la.eigh(ham)\n",
    "    return evals, evecs"
   ]
  },
  {
   "cell_type": "code",
   "execution_count": 48,
   "metadata": {},
   "outputs": [
    {
     "name": "stdout",
     "output_type": "stream",
     "text": [
      "[[-0. -1. -0. -0.  0.  0.  0.  0.]\n",
      " [-1. -0. -1. -0.  1.  0.  0.  0.]\n",
      " [-0. -1. -0. -1.  0.  1.  0.  0.]\n",
      " [-0. -0. -1. -0.  0.  0.  1.  0.]\n",
      " [ 0.  1.  0.  0.  0.  1.  0.  0.]\n",
      " [ 0.  0.  1.  0.  1.  0.  1.  0.]\n",
      " [ 0.  0.  0.  1.  0.  1.  0.  1.]\n",
      " [ 0.  0.  0.  0.  0.  0.  1.  0.]]\n"
     ]
    }
   ],
   "source": [
    "aa=KitaevChainSpectrum(4, 1.0, 1.0, False)\n"
   ]
  },
  {
   "cell_type": "code",
   "execution_count": 110,
   "metadata": {},
   "outputs": [
    {
     "name": "stdout",
     "output_type": "stream",
     "text": [
      "[[-0. +0.j -1. +0.j -0. +0.j ...  0. -0.j  0. -0.j  0.2+0.j]\n",
      " [-1. +0.j -0. +0.j -1. +0.j ...  0. -0.j  0. -0.j  0. -0.j]\n",
      " [-0. +0.j -1. +0.j -0. +0.j ...  0. -0.j  0. -0.j  0. -0.j]\n",
      " ...\n",
      " [ 0. +0.j  0. +0.j  0. +0.j ...  0. +0.j  1. +0.j  0. +0.j]\n",
      " [ 0. +0.j  0. +0.j  0. +0.j ...  1. +0.j  0. +0.j  1. +0.j]\n",
      " [ 0.2-0.j  0. +0.j  0. +0.j ...  0. +0.j  1. +0.j  0. +0.j]]\n"
     ]
    }
   ],
   "source": [
    "t = 1\n",
    "\n",
    "# This parameter controls if we want periodic boundary conditions or not\n",
    "# Zero modes will disappear if it is true.\n",
    "pbc = True\n",
    "\n",
    "zero_modes = []\n",
    "N = [256]\n",
    "\n",
    "for n in N:\n",
    "    delta = np.complex(0.2 * t)\n",
    "    e1, evecs = KitaevChainSpectrum(n, t, delta, pbc)\n",
    "\n",
    "    pl.plot(e1, '--+')\n",
    "    \n",
    "# pl.semilogy()"
   ]
  },
  {
   "cell_type": "code",
   "execution_count": 111,
   "metadata": {},
   "outputs": [
    {
     "data": {
      "text/plain": [
       "[<matplotlib.lines.Line2D at 0x7facdee287b8>]"
      ]
     },
     "execution_count": 111,
     "metadata": {},
     "output_type": "execute_result"
    }
   ],
   "source": [
    "# pl.plot(evecs[:256,255]**2)\n",
    "N=256\n",
    "edgemodes = evecs[:, [N-1]]\n",
    "dens = np.absolute(edgemodes)**2\n",
    "dens = dens[:N] + dens[N:]\n",
    "xaxis = np.arange(N)\n",
    "pl.plot(xaxis, dens[:, 0], 'x', color = 'k')\n"
   ]
  }
 ],
 "metadata": {
  "kernelspec": {
   "display_name": "Python 3",
   "language": "python",
   "name": "python3"
  },
  "language_info": {
   "codemirror_mode": {
    "name": "ipython",
    "version": 3
   },
   "file_extension": ".py",
   "mimetype": "text/x-python",
   "name": "python",
   "nbconvert_exporter": "python",
   "pygments_lexer": "ipython3",
   "version": "3.7.1"
  }
 },
 "nbformat": 4,
 "nbformat_minor": 2
}
