{
 "cells": [
  {
   "cell_type": "code",
   "execution_count": 2,
   "metadata": {},
   "outputs": [
    {
     "name": "stdout",
     "output_type": "stream",
     "text": [
      "Using matplotlib backend: Qt5Agg\n"
     ]
    }
   ],
   "source": [
    "import numpy as np\n",
    "from matplotlib import pylab as pl\n",
    "import scipy.linalg as la\n",
    "%matplotlib"
   ]
  },
  {
   "cell_type": "code",
   "execution_count": 3,
   "metadata": {},
   "outputs": [],
   "source": [
    "def Create_ChiMax(d, L, chi):\n",
    "    \"\"\"\n",
    "    Create the variable dimension of the chi over the chain\n",
    "    d - local Hilbert space dimension\n",
    "    L - length of the chain\n",
    "    chi - maximum allowed value of chi\n",
    "    \"\"\"\n",
    "    vv = np.zeros(L, dtype=int)\n",
    "    for i in range(L):\n",
    "        vv[i] = min ( d**(i+1), d**(L-i-1), chi)\n",
    "    \n",
    "    return vv[::-1]\n",
    "\n",
    "def Make_RightNormalizedB_L(L, d, chi_max, ChiM):\n",
    "    \"\"\"\n",
    "    This create/initialized B matrices as \n",
    "    right normalized matrix\n",
    "    \n",
    "    L- system size\n",
    "    d- local hilbert space dimension\n",
    "    chi_max - maximum bond dimension\n",
    "    ChiM    - distribution of chi over the chain\n",
    "    \"\"\"\n",
    "    # contains all the right normalized B\n",
    "    Blist=[]  #<-- final list \n",
    "    M_list=[] #<-- local list of M matrices (open boundary condition)\n",
    "    \n",
    "    # make Mlist here (starting from random numbers)\n",
    "    for i in range(L):\n",
    "        if i == 0 :\n",
    "            M_list.append(np.random.rand(d,1,chi_max))\n",
    "        elif i == L-1:\n",
    "            M_list.append(np.random.rand(d,chi_max,1))\n",
    "        else:    \n",
    "            M_list.append(np.random.rand(d,chi_max,chi_max))  \n",
    "    \n",
    "    # main loop for normalization\n",
    "    for i in range(L):\n",
    "        # index for list \n",
    "        idx = L-1-i\n",
    "        # shapes\n",
    "        a = M_list[idx].shape[1]\n",
    "        b = M_list[idx].shape[0]\n",
    "        c = M_list[idx].shape[2]\n",
    "    \n",
    "        # reshape and transpose\n",
    "        B_tmp = np.reshape(np.transpose(M_list[idx], (1, 0, 2)), (a, b*c))\n",
    "        X,Y,Z = np.linalg.svd(B_tmp,full_matrices=True, compute_uv=True)\n",
    "  \n",
    "        # new B\n",
    "        B_new = np.reshape(Z[:ChiM[idx]], (ChiM[idx], d, Z.shape[1]//d))\n",
    "        \n",
    "        # add blist \n",
    "        Blist.append(np.transpose(B_new, (1,0,2)))\n",
    "    \n",
    "        # for next B\n",
    "        X = X[:,0:ChiM[idx]]\n",
    "        Y = Y[:ChiM[idx]]\n",
    "        # XY dot\n",
    "        Umat = np.dot(X, np.diag(Y))/la.norm(Y)\n",
    "     \n",
    "        # re multiply to M_list\n",
    "        M_list[idx-1] = np.tensordot(M_list[idx-1], Umat, axes=(2,0))\n",
    "        \n",
    "        \n",
    "    return Blist[::-1]\n",
    "\n",
    "\n",
    "def CheckNormalization(Bl, L, dd=0):\n",
    "    \"\"\"\n",
    "    It Checks the normaliztaion of the matrix\n",
    "    given a list \n",
    "    \n",
    "    Bl -- the Bmatrix list \n",
    "    L  -- system size (go through all the b-matrix)\n",
    "    dd -- which diagonal entry\n",
    "    \n",
    "    \"\"\"\n",
    "    for i in range(L):\n",
    "        print (np.diag(np.tensordot(Bl[i], Bl[i].T, ([0,2],[2,0])),dd))"
   ]
  },
  {
   "cell_type": "code",
   "execution_count": 60,
   "metadata": {},
   "outputs": [],
   "source": [
    "chimax=100;d=2; L=20;\n",
    "ChiVec = Create_ChiMax(d, L, chimax)\n",
    "\n",
    "Bmat = Make_RightNormalizedB_L(L, d, chimax, ChiVec)"
   ]
  },
  {
   "cell_type": "code",
   "execution_count": 61,
   "metadata": {},
   "outputs": [
    {
     "data": {
      "text/plain": [
       "[<matplotlib.lines.Line2D at 0x7f05e9662fd0>]"
      ]
     },
     "execution_count": 61,
     "metadata": {},
     "output_type": "execute_result"
    }
   ],
   "source": [
    "pl.plot(ChiVec, '--x')"
   ]
  },
  {
   "cell_type": "code",
   "execution_count": 51,
   "metadata": {},
   "outputs": [
    {
     "data": {
      "text/plain": [
       "(2, 1, 2)"
      ]
     },
     "execution_count": 51,
     "metadata": {},
     "output_type": "execute_result"
    }
   ],
   "source": [
    "Bmat[0].shape"
   ]
  },
  {
   "cell_type": "code",
   "execution_count": 53,
   "metadata": {},
   "outputs": [
    {
     "data": {
      "text/plain": [
       "(2, 16, 32)"
      ]
     },
     "execution_count": 53,
     "metadata": {},
     "output_type": "execute_result"
    }
   ],
   "source": [
    "Bmat[4].shape"
   ]
  },
  {
   "cell_type": "code",
   "execution_count": 58,
   "metadata": {},
   "outputs": [
    {
     "name": "stdout",
     "output_type": "stream",
     "text": [
      "[1.]\n",
      "[1. 1.]\n",
      "[1. 1. 1. 1.]\n",
      "[1. 1. 1. 1. 1. 1. 1. 1.]\n",
      "[1. 1. 1. 1. 1. 1. 1. 1. 1. 1. 1. 1. 1. 1. 1. 1.]\n",
      "[1. 1. 1. 1. 1. 1. 1. 1. 1. 1. 1. 1. 1. 1. 1. 1. 1. 1. 1. 1. 1. 1. 1. 1.\n",
      " 1. 1. 1. 1. 1. 1. 1. 1.]\n",
      "[1. 1. 1. 1. 1. 1. 1. 1. 1. 1. 1. 1. 1. 1. 1. 1. 1. 1. 1. 1. 1. 1. 1. 1.\n",
      " 1. 1. 1. 1. 1. 1. 1. 1. 1. 1. 1. 1. 1. 1. 1. 1. 1. 1. 1. 1. 1. 1. 1. 1.\n",
      " 1. 1. 1. 1. 1. 1. 1. 1. 1. 1. 1. 1. 1. 1. 1. 1.]\n",
      "[1. 1. 1. 1. 1. 1. 1. 1. 1. 1. 1. 1. 1. 1. 1. 1. 1. 1. 1. 1. 1. 1. 1. 1.\n",
      " 1. 1. 1. 1. 1. 1. 1. 1. 1. 1. 1. 1. 1. 1. 1. 1. 1. 1. 1. 1. 1. 1. 1. 1.\n",
      " 1. 1. 1. 1. 1. 1. 1. 1. 1. 1. 1. 1. 1. 1. 1. 1. 1. 1. 1. 1. 1. 1. 1. 1.\n",
      " 1. 1. 1. 1. 1. 1. 1. 1. 1. 1. 1. 1. 1. 1. 1. 1. 1. 1. 1. 1. 1. 1. 1. 1.\n",
      " 1. 1. 1. 1.]\n",
      "[1. 1. 1. 1. 1. 1. 1. 1. 1. 1. 1. 1. 1. 1. 1. 1. 1. 1. 1. 1. 1. 1. 1. 1.\n",
      " 1. 1. 1. 1. 1. 1. 1. 1. 1. 1. 1. 1. 1. 1. 1. 1. 1. 1. 1. 1. 1. 1. 1. 1.\n",
      " 1. 1. 1. 1. 1. 1. 1. 1. 1. 1. 1. 1. 1. 1. 1. 1. 1. 1. 1. 1. 1. 1. 1. 1.\n",
      " 1. 1. 1. 1. 1. 1. 1. 1. 1. 1. 1. 1. 1. 1. 1. 1. 1. 1. 1. 1. 1. 1. 1. 1.\n",
      " 1. 1. 1. 1.]\n",
      "[1. 1. 1. 1. 1. 1. 1. 1. 1. 1. 1. 1. 1. 1. 1. 1. 1. 1. 1. 1. 1. 1. 1. 1.\n",
      " 1. 1. 1. 1. 1. 1. 1. 1. 1. 1. 1. 1. 1. 1. 1. 1. 1. 1. 1. 1. 1. 1. 1. 1.\n",
      " 1. 1. 1. 1. 1. 1. 1. 1. 1. 1. 1. 1. 1. 1. 1. 1. 1. 1. 1. 1. 1. 1. 1. 1.\n",
      " 1. 1. 1. 1. 1. 1. 1. 1. 1. 1. 1. 1. 1. 1. 1. 1. 1. 1. 1. 1. 1. 1. 1. 1.\n",
      " 1. 1. 1. 1.]\n",
      "[1. 1. 1. 1. 1. 1. 1. 1. 1. 1. 1. 1. 1. 1. 1. 1. 1. 1. 1. 1. 1. 1. 1. 1.\n",
      " 1. 1. 1. 1. 1. 1. 1. 1. 1. 1. 1. 1. 1. 1. 1. 1. 1. 1. 1. 1. 1. 1. 1. 1.\n",
      " 1. 1. 1. 1. 1. 1. 1. 1. 1. 1. 1. 1. 1. 1. 1. 1. 1. 1. 1. 1. 1. 1. 1. 1.\n",
      " 1. 1. 1. 1. 1. 1. 1. 1. 1. 1. 1. 1. 1. 1. 1. 1. 1. 1. 1. 1. 1. 1. 1. 1.\n",
      " 1. 1. 1. 1.]\n",
      "[1. 1. 1. 1. 1. 1. 1. 1. 1. 1. 1. 1. 1. 1. 1. 1. 1. 1. 1. 1. 1. 1. 1. 1.\n",
      " 1. 1. 1. 1. 1. 1. 1. 1. 1. 1. 1. 1. 1. 1. 1. 1. 1. 1. 1. 1. 1. 1. 1. 1.\n",
      " 1. 1. 1. 1. 1. 1. 1. 1. 1. 1. 1. 1. 1. 1. 1. 1. 1. 1. 1. 1. 1. 1. 1. 1.\n",
      " 1. 1. 1. 1. 1. 1. 1. 1. 1. 1. 1. 1. 1. 1. 1. 1. 1. 1. 1. 1. 1. 1. 1. 1.\n",
      " 1. 1. 1. 1.]\n",
      "[1. 1. 1. 1. 1. 1. 1. 1. 1. 1. 1. 1. 1. 1. 1. 1. 1. 1. 1. 1. 1. 1. 1. 1.\n",
      " 1. 1. 1. 1. 1. 1. 1. 1. 1. 1. 1. 1. 1. 1. 1. 1. 1. 1. 1. 1. 1. 1. 1. 1.\n",
      " 1. 1. 1. 1. 1. 1. 1. 1. 1. 1. 1. 1. 1. 1. 1. 1. 1. 1. 1. 1. 1. 1. 1. 1.\n",
      " 1. 1. 1. 1. 1. 1. 1. 1. 1. 1. 1. 1. 1. 1. 1. 1. 1. 1. 1. 1. 1. 1. 1. 1.\n",
      " 1. 1. 1. 1.]\n",
      "[1. 1. 1. 1. 1. 1. 1. 1. 1. 1. 1. 1. 1. 1. 1. 1. 1. 1. 1. 1. 1. 1. 1. 1.\n",
      " 1. 1. 1. 1. 1. 1. 1. 1. 1. 1. 1. 1. 1. 1. 1. 1. 1. 1. 1. 1. 1. 1. 1. 1.\n",
      " 1. 1. 1. 1. 1. 1. 1. 1. 1. 1. 1. 1. 1. 1. 1. 1. 1. 1. 1. 1. 1. 1. 1. 1.\n",
      " 1. 1. 1. 1. 1. 1. 1. 1. 1. 1. 1. 1. 1. 1. 1. 1. 1. 1. 1. 1. 1. 1. 1. 1.\n",
      " 1. 1. 1. 1.]\n",
      "[1. 1. 1. 1. 1. 1. 1. 1. 1. 1. 1. 1. 1. 1. 1. 1. 1. 1. 1. 1. 1. 1. 1. 1.\n",
      " 1. 1. 1. 1. 1. 1. 1. 1. 1. 1. 1. 1. 1. 1. 1. 1. 1. 1. 1. 1. 1. 1. 1. 1.\n",
      " 1. 1. 1. 1. 1. 1. 1. 1. 1. 1. 1. 1. 1. 1. 1. 1.]\n",
      "[1. 1. 1. 1. 1. 1. 1. 1. 1. 1. 1. 1. 1. 1. 1. 1. 1. 1. 1. 1. 1. 1. 1. 1.\n",
      " 1. 1. 1. 1. 1. 1. 1. 1.]\n",
      "[1. 1. 1. 1. 1. 1. 1. 1. 1. 1. 1. 1. 1. 1. 1. 1.]\n",
      "[1. 1. 1. 1. 1. 1. 1. 1.]\n",
      "[1. 1. 1. 1.]\n",
      "[1. 1.]\n"
     ]
    }
   ],
   "source": [
    "CheckNormalization(Bmat, L, dd=0)"
   ]
  },
  {
   "cell_type": "markdown",
   "metadata": {},
   "source": [
    "# Compress a state to MPS"
   ]
  },
  {
   "cell_type": "code",
   "execution_count": 88,
   "metadata": {},
   "outputs": [],
   "source": [
    "#def compress(psi, L, chimax):\n",
    "L=14;\n",
    "psi= np.random.random(2**L)\n",
    "\n",
    "def compress_state(psi, L, chimax):\n",
    "    psi_aR = np.reshape(psi, (1, 2**L))\n",
    "    Ms = []\n",
    "    for n in range(1, L+1):\n",
    "        chi_L, dim_R = psi_aR.shape\n",
    "\n",
    "        # first reshape\n",
    "        psi_LR = np.reshape(psi_aR, (chi_L*2, dim_R//2))\n",
    "\n",
    "        # SVD\n",
    "        M_n, lambda_n, psi_tilde = la.svd(psi_LR, \\\n",
    "                                                    full_matrices=False, \\\n",
    "                                                    lapack_driver='gesvd')\n",
    "        # check chimax condition\n",
    "        if len(lambda_n) > chimax:\n",
    "            keep = np.argsort(lambda_n)[::-1][:chimax]\n",
    "\n",
    "            ## keeping that many states\n",
    "            M_n = M_n[:, keep]\n",
    "            lambda_n = lambda_n[keep]\n",
    "            psi_tilde = psi_tilde[keep, :]\n",
    "\n",
    "        chi_np1 = len(lambda_n)\n",
    "        M_n = np.reshape(M_n, (chi_L, 2, chi_np1))\n",
    "        Ms.append(M_n)\n",
    "        psi_aR = lambda_n[:, np.newaxis] * psi_tilde[:, :]\n",
    "    return Ms"
   ]
  },
  {
   "cell_type": "code",
   "execution_count": 89,
   "metadata": {},
   "outputs": [
    {
     "name": "stdout",
     "output_type": "stream",
     "text": [
      "16384 8192\n"
     ]
    }
   ],
   "source": [
    "Ms = compress_state(psi, L, 40)\n",
    "Mr = compress_state(psi, L, (2**L)//2)\n",
    "\n",
    "print(2**L, (2**L)//2)"
   ]
  },
  {
   "cell_type": "markdown",
   "metadata": {},
   "source": [
    "# overlap with original chi without truncation"
   ]
  },
  {
   "cell_type": "code",
   "execution_count": 90,
   "metadata": {},
   "outputs": [],
   "source": [
    "def overlap(mps_b, mps_k):\n",
    "    L = len(mps_b)\n",
    "    \n",
    "    contr = np.ones((1,1)) # has indices (alpha_n*, alpha_n)\n",
    "    \n",
    "    for n in range(L):\n",
    "        M_k = mps_k[n]  # has indices (alpha_n, j_n, alpha_{n+1})\n",
    "        contr = np.tensordot(contr, M_k , axes=(1, 0)) \n",
    "\n",
    "        # now contr has indices alpha_n*, j_n, alpha_{n+1}\n",
    "        M_b = mps_b[n].conj()  # has indices (alpha_n*, j_n, alpha_{n+1}*)\n",
    "        contr = np.tensordot(M_b, contr, axes=([0, 1], [0, 1]))\n",
    "    \n",
    "    return contr.item()"
   ]
  },
  {
   "cell_type": "code",
   "execution_count": 91,
   "metadata": {},
   "outputs": [
    {
     "data": {
      "text/plain": [
       "0.9479371161043822"
      ]
     },
     "execution_count": 91,
     "metadata": {},
     "output_type": "execute_result"
    }
   ],
   "source": [
    "overlap(Ms, Mr)"
   ]
  },
  {
   "cell_type": "code",
   "execution_count": 92,
   "metadata": {},
   "outputs": [
    {
     "name": "stdout",
     "output_type": "stream",
     "text": [
      "14248 43688\n"
     ]
    }
   ],
   "source": [
    "aa=np.sum([Ms[i].size for i in range(L)])\n",
    "bb=np.sum([Mr[i].size for i in range(L)])\n",
    "\n",
    "print(aa, bb)"
   ]
  },
  {
   "cell_type": "code",
   "execution_count": null,
   "metadata": {},
   "outputs": [],
   "source": []
  }
 ],
 "metadata": {
  "kernelspec": {
   "display_name": "Python 3",
   "language": "python",
   "name": "python3"
  },
  "language_info": {
   "codemirror_mode": {
    "name": "ipython",
    "version": 3
   },
   "file_extension": ".py",
   "mimetype": "text/x-python",
   "name": "python",
   "nbconvert_exporter": "python",
   "pygments_lexer": "ipython3",
   "version": "3.7.1"
  }
 },
 "nbformat": 4,
 "nbformat_minor": 2
}
