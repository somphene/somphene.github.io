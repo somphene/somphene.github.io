{
 "cells": [
  {
   "cell_type": "code",
   "execution_count": 14,
   "metadata": {},
   "outputs": [],
   "source": [
    "import numpy as np\n",
    "import scipy.sparse as sps"
   ]
  },
  {
   "cell_type": "code",
   "execution_count": 135,
   "metadata": {},
   "outputs": [],
   "source": [
    "# def int_to_bin(i, L):\n",
    "#     \"\"\"\n",
    "#     This will convert integer(i) to binary format\n",
    "#     will zfill L (system size)\n",
    "#     \"\"\"\n",
    "#     return list(map(int, bin(i)[2:].zfill(L)))\n",
    "\n",
    "# def flip(s, i, N):\n",
    "#     \"\"\"\n",
    "#     Flip 0 and 1 (0 is in left and 1 in right)\n",
    "#     Periodic boundary is implemented via mod function\n",
    "#     \"\"\"\n",
    "#     st=list(map(int, bin(s)[2:].zfill(N)))\n",
    "#     st[i]=1\n",
    "#     st[np.mod(i+1, N)]=0\n",
    "#     return int(''.join(str(x) for x in st),2)\n",
    "\n",
    "def create_basis(L):\n",
    "    \"\"\"\n",
    "    This will create the many body basis for 1d inteacting \n",
    "    spinless fermions.\n",
    "    L  : system size\n",
    "    pn : particle number\n",
    "    \"\"\"\n",
    "    n=2**L\n",
    "    \n",
    "    ## first create a dictionary for basis\n",
    "    ac={} \n",
    "    k=0\n",
    "    for i in range(n):\n",
    "        # binary conversion and checking particle number\n",
    "#         if bin(i).count('1')==pn:\n",
    "#             #print int_to_bin(i, L)\n",
    "#             ac[i]=k\n",
    "#             k=k+1\n",
    "        ac[i]=k\n",
    "        k=k+1\n",
    "#         print(bin(i)[2:].zfill(L))\n",
    "    \n",
    "    return ac\n",
    "\n",
    "def flip_spin(st, i, j): \n",
    "    \n",
    "    k = list(map(int, st))\n",
    "#     print(k)\n",
    "    if k[i]==0:\n",
    "        k[i]=1\n",
    "    else:\n",
    "        k[i]=0\n",
    "    \n",
    "    if k[j]==0:\n",
    "        k[j]=1\n",
    "    else:\n",
    "        k[j]=0\n",
    "    return int(''.join(str(x) for x in k),2)\n"
   ]
  },
  {
   "cell_type": "code",
   "execution_count": 136,
   "metadata": {},
   "outputs": [
    {
     "data": {
      "text/plain": [
       "{0: 0,\n",
       " 1: 1,\n",
       " 2: 2,\n",
       " 3: 3,\n",
       " 4: 4,\n",
       " 5: 5,\n",
       " 6: 6,\n",
       " 7: 7,\n",
       " 8: 8,\n",
       " 9: 9,\n",
       " 10: 10,\n",
       " 11: 11,\n",
       " 12: 12,\n",
       " 13: 13,\n",
       " 14: 14,\n",
       " 15: 15}"
      ]
     },
     "execution_count": 136,
     "metadata": {},
     "output_type": "execute_result"
    }
   ],
   "source": [
    "# basis check\n",
    "create_basis(L=4)"
   ]
  },
  {
   "cell_type": "code",
   "execution_count": 144,
   "metadata": {},
   "outputs": [],
   "source": [
    "## create hamiltonian\n",
    "# create the Sx Sx term\n",
    "def Sx_Sx(basis, L, Jhop,):\n",
    "    \"\"\"\n",
    "    Basis : only + or - (parity)\n",
    "    L : system size\n",
    "    Jhop  : prefactor\n",
    "    \"\"\"\n",
    "    # ham\n",
    "    ndim = len(basis)\n",
    "    SxSx = sps.lil_matrix((ndim, ndim))\n",
    "\n",
    "\n",
    "    for val in basis:\n",
    "        \n",
    "        for i in range(L):\n",
    "            j=np.mod(i+1, L)\n",
    "               \n",
    "            aa = bin(val)[2:].zfill(L)\n",
    "#             print(aa)\n",
    "            iind  = basis[val]\n",
    "            jind  = basis[flip_spin(aa, i, j)]\n",
    "\n",
    "            SxSx[iind, jind] += -Jhop\n",
    "    \n",
    "    return SxSx\n",
    "\n",
    "\n",
    "# Field \n",
    "def Sz_field(basis, L, ):\n",
    "    \"\"\"\n",
    "    Basis : usual basis\n",
    "    L : system size\n",
    "    \"\"\"\n",
    "    # ham\n",
    "    ndim = len(basis)\n",
    "    Sz = sps.lil_matrix((ndim, ndim))\n",
    "\n",
    "    for val in basis:\n",
    "        \n",
    "        # creating the basis again in some sense\n",
    "        bb = bin(val)[2:].zfill(L)\n",
    "        \n",
    "        #print(bb)\n",
    "        \n",
    "        for i in range(L):\n",
    "            \n",
    "            Sz[basis[val], basis[val]] += (1-2*int(bb[i]))\n",
    "    \n",
    "    return Sz"
   ]
  },
  {
   "cell_type": "code",
   "execution_count": 145,
   "metadata": {},
   "outputs": [],
   "source": [
    "L=4\n",
    "basis = create_basis(L)\n",
    "\n",
    "zz=Sx_Sx(basis, L, 1.0,) + 1.0*Sz_field(basis,L)\n",
    "\n",
    "# print(zz.toarray())"
   ]
  },
  {
   "cell_type": "code",
   "execution_count": 146,
   "metadata": {},
   "outputs": [
    {
     "data": {
      "text/plain": [
       "array([-5.22625186e+00, -4.82842712e+00, -2.16478440e+00, -2.00000000e+00,\n",
       "       -2.00000000e+00, -8.28427125e-01, -2.40247560e-16,  4.60570667e-17,\n",
       "        8.31002602e-17,  1.60199621e-16,  8.28427125e-01,  2.00000000e+00,\n",
       "        2.00000000e+00,  2.16478440e+00,  4.82842712e+00,  5.22625186e+00])"
      ]
     },
     "execution_count": 146,
     "metadata": {},
     "output_type": "execute_result"
    }
   ],
   "source": [
    "np.linalg.eigvalsh(zz.toarray())"
   ]
  },
  {
   "cell_type": "code",
   "execution_count": null,
   "metadata": {},
   "outputs": [],
   "source": []
  }
 ],
 "metadata": {
  "kernelspec": {
   "display_name": "Python 3",
   "language": "python",
   "name": "python3"
  },
  "language_info": {
   "codemirror_mode": {
    "name": "ipython",
    "version": 3
   },
   "file_extension": ".py",
   "mimetype": "text/x-python",
   "name": "python",
   "nbconvert_exporter": "python",
   "pygments_lexer": "ipython3",
   "version": "3.7.1"
  }
 },
 "nbformat": 4,
 "nbformat_minor": 2
}
