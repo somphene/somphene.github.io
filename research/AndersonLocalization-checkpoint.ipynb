{
 "cells": [
  {
   "cell_type": "code",
   "execution_count": 2,
   "metadata": {},
   "outputs": [
    {
     "name": "stdout",
     "output_type": "stream",
     "text": [
      "Using matplotlib backend: Qt5Agg\n"
     ]
    }
   ],
   "source": [
    "import numpy as np\n",
    "import pylab as pl\n",
    "import scipy.linalg as la\n",
    "%matplotlib"
   ]
  },
  {
   "cell_type": "code",
   "execution_count": 4,
   "metadata": {},
   "outputs": [],
   "source": [
    "def realSpaceHam(Nx, Ny, t=1, d=1, W=0.0, periodic=True):\n",
    "    \"\"\"\n",
    "    Nx, Ny, : linear dimension of the problem in three direction\n",
    "    t : hopping amplitude\n",
    "    d : dimension of the system(1,2)\n",
    "\n",
    "    \"\"\"\n",
    "    # ones to create the x directional matrix \n",
    "    nn = np.ones(Nx-1)\n",
    "\n",
    "    # always returns matrix hopping in 1 direction \n",
    "    Ahop = -0.5*t*(np.diag(nn,1) + np.diag(nn,-1))\n",
    "      \n",
    "    if periodic==True:\n",
    "        ## x direction\n",
    "        Abc = -t*0.5*(np.diag([1.],Nx-1) + np.diag([1.],-(Nx-1)))\n",
    "        A1d = Ahop + Abc\n",
    "    else:\n",
    "        A1d = Ahop\n",
    "\n",
    "    # dimensional dependence    \n",
    "    if d==1:\n",
    "        ham = A1d\n",
    "        \n",
    "    if d > 1:\n",
    "        ## y direction onsite energies \n",
    "        ham  = np.kron(np.identity(Ny),A1d)\n",
    "        ## hopping elements \n",
    "        Ahop = -0.5*t*np.kron(np.diag(np.ones(Ny-1),1), np.identity(Nx)) \n",
    "        \n",
    "        if periodic==True:\n",
    "            Abc  = -0.5*t*np.kron(np.diag([1.], Ny-1), np.identity(Nx))\n",
    "            ham  = ham + Ahop + Ahop.T + Abc + Abc.T\n",
    "        else:\n",
    "            ham  = ham + Ahop + Ahop.T \n",
    "    \n",
    "    dis = 0.5*W*np.random.uniform(-1., 1, ham.shape[0])\n",
    "    ham_dis = ham + np.diag(dis)\n",
    "    \n",
    "    return ham_dis"
   ]
  },
  {
   "cell_type": "markdown",
   "metadata": {},
   "source": [
    "# System parameters"
   ]
  },
  {
   "cell_type": "code",
   "execution_count": 10,
   "metadata": {},
   "outputs": [],
   "source": [
    "Lx=32\n",
    "Ly=32\n",
    "aham = realSpaceHam(Nx=Lx, Ny=Ly, d=2, W=5.0)\n",
    "evals, evecs = la.eigh(aham)"
   ]
  },
  {
   "cell_type": "markdown",
   "metadata": {},
   "source": [
    "# 1D plot"
   ]
  },
  {
   "cell_type": "code",
   "execution_count": 9,
   "metadata": {},
   "outputs": [
    {
     "data": {
      "text/plain": [
       "(1e-16, 20)"
      ]
     },
     "execution_count": 9,
     "metadata": {},
     "output_type": "execute_result"
    }
   ],
   "source": [
    "for k in range(10):\n",
    "    pl.plot(evecs[:,k]**2)\n",
    "    pl.semilogy()\n",
    "pl.ylim(1e-16, 20)"
   ]
  },
  {
   "cell_type": "markdown",
   "metadata": {},
   "source": [
    "# 2D plot"
   ]
  },
  {
   "cell_type": "code",
   "execution_count": 11,
   "metadata": {},
   "outputs": [
    {
     "data": {
      "text/plain": [
       "<matplotlib.colorbar.Colorbar at 0x7fc2390f8b00>"
      ]
     },
     "execution_count": 11,
     "metadata": {},
     "output_type": "execute_result"
    }
   ],
   "source": [
    "WF = (evecs[:,0]**2).reshape(Lx, Ly)\n",
    "pl.pcolormesh(WF)\n",
    "pl.colorbar()"
   ]
  },
  {
   "cell_type": "code",
   "execution_count": null,
   "metadata": {},
   "outputs": [],
   "source": []
  }
 ],
 "metadata": {
  "kernelspec": {
   "display_name": "Python 3",
   "language": "python",
   "name": "python3"
  },
  "language_info": {
   "codemirror_mode": {
    "name": "ipython",
    "version": 3
   },
   "file_extension": ".py",
   "mimetype": "text/x-python",
   "name": "python",
   "nbconvert_exporter": "python",
   "pygments_lexer": "ipython3",
   "version": "3.7.1"
  }
 },
 "nbformat": 4,
 "nbformat_minor": 2
}
