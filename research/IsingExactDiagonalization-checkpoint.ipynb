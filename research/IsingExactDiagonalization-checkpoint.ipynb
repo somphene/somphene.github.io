{
 "cells": [
  {
   "cell_type": "code",
   "execution_count": 1,
   "metadata": {},
   "outputs": [
    {
     "name": "stdout",
     "output_type": "stream",
     "text": [
      "Using matplotlib backend: Qt5Agg\n"
     ]
    }
   ],
   "source": [
    "import numpy as np\n",
    "import scipy as sp\n",
    "from scipy import sparse as sps\n",
    "import scipy.sparse.linalg as la\n",
    "import pylab as pl\n",
    "%matplotlib"
   ]
  },
  {
   "cell_type": "code",
   "execution_count": 2,
   "metadata": {},
   "outputs": [],
   "source": [
    "# construct operator in single site\n",
    "def singlesiteoperators(Op, i, L, Iden):\n",
    "    opls    = [Iden]*L  # create 2x2 identity matrix L of them in a list\n",
    "    opls[i] = Op        # Put the opeartor which one needs to kron with identity\n",
    "    \n",
    "    f_op= opls[0]\n",
    "    # now lets do the kron\n",
    "    for i in range(L-1):\n",
    "        f_op = sps.kron(f_op, opls[i+1], format='csr')\n",
    "    \n",
    "    return f_op"
   ]
  },
  {
   "cell_type": "code",
   "execution_count": 27,
   "metadata": {},
   "outputs": [],
   "source": [
    "# different matrices\n",
    "Id = sps.csr_matrix(np.eye(2))\n",
    "Sx = sps.csr_matrix([[0., 1.], [1., 0.]])\n",
    "Sz = sps.csr_matrix([[1., 0.], [0., -1.]])\n",
    "\n",
    "# system size\n",
    "Ll=4\n",
    "\n",
    "SxFull = [singlesiteoperators(Sx, L, Ll, Id) for L in range(Ll)]\n",
    "\n",
    "SzFull = [singlesiteoperators(Sz, L, Ll, Id) for L in range(Ll)]"
   ]
  },
  {
   "cell_type": "code",
   "execution_count": 28,
   "metadata": {},
   "outputs": [],
   "source": [
    "def ising_hamiltonian(L, Sxlist, Szlist, g):\n",
    "    \"\"\"\n",
    "    L- system size\n",
    "    Sxlist - all sx operators\n",
    "    Sylist - all sy operators\n",
    "    g - coupling strength (here J is taken to be 1)\n",
    "    \"\"\"\n",
    "    ham = sps.csr_matrix((2**L, 2**L))\n",
    "    for k in range(L):\n",
    "        knext = np.mod(k+1,L)\n",
    "        \n",
    "        ham += -Sxlist[k]*Sxlist[knext] - g*Szlist[k]\n",
    "        \n",
    "    return ham"
   ]
  },
  {
   "cell_type": "code",
   "execution_count": 29,
   "metadata": {},
   "outputs": [
    {
     "name": "stdout",
     "output_type": "stream",
     "text": [
      "<16x16 sparse matrix of type '<class 'numpy.float64'>'\n",
      "\twith 74 stored elements in Compressed Sparse Row format>\n",
      "[[-4.  0.  0. -1.  0.  0. -1.  0.  0. -1.  0.  0. -1.  0.  0.  0.]\n",
      " [ 0. -2. -1.  0.  0.  0.  0. -1. -1.  0.  0.  0.  0. -1.  0.  0.]\n",
      " [ 0. -1. -2.  0. -1.  0.  0.  0.  0.  0.  0. -1.  0.  0. -1.  0.]\n",
      " [-1.  0.  0.  0.  0. -1.  0.  0.  0.  0. -1.  0.  0.  0.  0. -1.]\n",
      " [ 0.  0. -1.  0. -2.  0.  0. -1. -1.  0.  0.  0.  0. -1.  0.  0.]\n",
      " [ 0.  0.  0. -1.  0.  0. -1.  0.  0. -1.  0.  0. -1.  0.  0.  0.]\n",
      " [-1.  0.  0.  0.  0. -1.  0.  0.  0.  0. -1.  0.  0.  0.  0. -1.]\n",
      " [ 0. -1.  0.  0. -1.  0.  0.  2.  0.  0.  0. -1.  0.  0. -1.  0.]\n",
      " [ 0. -1.  0.  0. -1.  0.  0.  0. -2.  0.  0. -1.  0.  0. -1.  0.]\n",
      " [-1.  0.  0.  0.  0. -1.  0.  0.  0.  0. -1.  0.  0.  0.  0. -1.]\n",
      " [ 0.  0.  0. -1.  0.  0. -1.  0.  0. -1.  0.  0. -1.  0.  0.  0.]\n",
      " [ 0.  0. -1.  0.  0.  0.  0. -1. -1.  0.  0.  2.  0. -1.  0.  0.]\n",
      " [-1.  0.  0.  0.  0. -1.  0.  0.  0.  0. -1.  0.  0.  0.  0. -1.]\n",
      " [ 0. -1.  0.  0. -1.  0.  0.  0.  0.  0.  0. -1.  0.  2. -1.  0.]\n",
      " [ 0.  0. -1.  0.  0.  0.  0. -1. -1.  0.  0.  0.  0. -1.  2.  0.]\n",
      " [ 0.  0.  0. -1.  0.  0. -1.  0.  0. -1.  0.  0. -1.  0.  0.  4.]]\n"
     ]
    }
   ],
   "source": [
    "# sparse hamiltonian\n",
    "ham = ising_hamiltonian(Ll, SxFull, SzFull, 1.0)\n",
    "\n",
    "print(repr(ham))\n",
    "\n",
    "print(ham.toarray())"
   ]
  },
  {
   "cell_type": "code",
   "execution_count": 30,
   "metadata": {},
   "outputs": [
    {
     "name": "stdout",
     "output_type": "stream",
     "text": [
      "[-5.22625186 -4.82842712 -2.1647844  -2.         -2.         -0.82842712]\n"
     ]
    }
   ],
   "source": [
    "# diagonalize the hamiltonian\n",
    "evals, evecs = la.eigsh(ham, which='SA')\n",
    "\n",
    "print(evals)"
   ]
  },
  {
   "cell_type": "code",
   "execution_count": 31,
   "metadata": {},
   "outputs": [
    {
     "name": "stdout",
     "output_type": "stream",
     "text": [
      "[-5.22625186e+00 -4.82842712e+00 -2.16478440e+00 -2.00000000e+00\n",
      " -2.00000000e+00 -8.28427125e-01 -9.52242404e-17 -4.61542421e-17\n",
      "  2.15619877e-16  4.45994233e-16  8.28427125e-01  2.00000000e+00\n",
      "  2.00000000e+00  2.16478440e+00  4.82842712e+00  5.22625186e+00]\n"
     ]
    }
   ],
   "source": [
    "## check with usual full diagonalization\n",
    "evals, evecs = np.linalg.eigh(ham.toarray())\n",
    "\n",
    "print(evals)"
   ]
  },
  {
   "cell_type": "code",
   "execution_count": 41,
   "metadata": {},
   "outputs": [],
   "source": [
    "## plot the ground state and first excited state as function of g\n",
    "glist = np.linspace(0, 2, 11)\n",
    "\n",
    "e0=[]\n",
    "e1=[]\n",
    "\n",
    "for g in glist:\n",
    "    ham = ising_hamiltonian(Ll, SxFull, SzFull, g)\n",
    "    \n",
    "    evals, evecs = la.eigsh(ham, which='SA')\n",
    "    \n",
    "    e0.append(evals[0])\n",
    "    e1.append(evals[1])"
   ]
  },
  {
   "cell_type": "code",
   "execution_count": 54,
   "metadata": {},
   "outputs": [
    {
     "data": {
      "text/plain": [
       "[<matplotlib.lines.Line2D at 0x7f64300757b8>]"
      ]
     },
     "execution_count": 54,
     "metadata": {},
     "output_type": "execute_result"
    }
   ],
   "source": [
    "# plot them\n",
    "pl.figure(0)\n",
    "pl.plot(glist, e0, '--', lw=2)\n",
    "pl.plot(glist, e1)"
   ]
  },
  {
   "cell_type": "code",
   "execution_count": 53,
   "metadata": {},
   "outputs": [
    {
     "data": {
      "text/plain": [
       "<matplotlib.lines.Line2D at 0x7f64300565c0>"
      ]
     },
     "execution_count": 53,
     "metadata": {},
     "output_type": "execute_result"
    }
   ],
   "source": [
    "# plot the gap\n",
    "pl.figure(1)\n",
    "pl.plot(glist,np.array(e1)-np.array(e0), 'o', mfc='none')\n",
    "pl.axvline(1,color='k', lw=0.5)\n",
    "pl.axhline(0,color='k', lw=0.5)"
   ]
  },
  {
   "cell_type": "markdown",
   "metadata": {},
   "source": [
    "# Gap scaling"
   ]
  },
  {
   "cell_type": "code",
   "execution_count": 61,
   "metadata": {},
   "outputs": [
    {
     "data": {
      "text/plain": [
       "<matplotlib.legend.Legend at 0x7f6430120470>"
      ]
     },
     "execution_count": 61,
     "metadata": {},
     "output_type": "execute_result"
    }
   ],
   "source": [
    "# now do it for different values of L\n",
    "Ll=[4,6,8,]\n",
    "\n",
    "## plot the ground state and first excited state as function of g\n",
    "glist = np.linspace(0, 2, 11)\n",
    "\n",
    "# loop for system sizes\n",
    "for L in Ll:\n",
    "\n",
    "    ## also create all the operators\n",
    "    SxFull = [singlesiteoperators(Sx, k, L, Id) for k in range(L)]\n",
    "    SzFull = [singlesiteoperators(Sz, k, L, Id) for k in range(L)]\n",
    "    \n",
    "    ## save the gap here\n",
    "    gap_delta=[]\n",
    "    for g in glist:\n",
    "        # create hamiltonian\n",
    "        ham = ising_hamiltonian(L, SxFull, SzFull, g)\n",
    "        # diagonalize\n",
    "        evals, evecs = la.eigsh(ham, which='SA')\n",
    "\n",
    "        gap_delta.append(evals[1]-evals[0])\n",
    "        \n",
    "    # plot it\n",
    "    pl.plot(glist, gap_delta, 'o', label=r'$L='+str(L)+'$',mfc='none')\n",
    "    \n",
    "pl.axvline(1,color='k', lw=0.5)\n",
    "pl.axhline(0,color='k', lw=0.5)\n",
    "pl.legend(loc='best')"
   ]
  },
  {
   "cell_type": "markdown",
   "metadata": {},
   "source": [
    "# correlation function"
   ]
  },
  {
   "cell_type": "code",
   "execution_count": 94,
   "metadata": {},
   "outputs": [
    {
     "data": {
      "text/plain": [
       "<matplotlib.legend.Legend at 0x7f640c315a90>"
      ]
     },
     "execution_count": 94,
     "metadata": {},
     "output_type": "execute_result"
    }
   ],
   "source": [
    "# calculate the correlation function as a function of site\n",
    "# system size\n",
    "Ll=6\n",
    "\n",
    "SxFull = [singlesiteoperators(Sx, L, Ll, Id) for L in range(Ll)]\n",
    "SzFull = [singlesiteoperators(Sz, L, Ll, Id) for L in range(Ll)]\n",
    "\n",
    "#for i in range(L-1):\n",
    "sxsx = SxFull[0]*SxFull[1]\n",
    "szsz = SzFull[0]*SzFull[1]\n",
    "\n",
    "glist = np.linspace(0, 2, 21)\n",
    "#\n",
    "corr=[]\n",
    "for g in glist:\n",
    "    # create hamiltonian\n",
    "    ham = ising_hamiltonian(Ll, SxFull, SzFull, g)\n",
    "    # diagonalize\n",
    "    evals, evecs = la.eigsh(ham, which='SA')\n",
    "\n",
    "    corr.append( ( np.dot(evecs[:,0].T, sxsx@evecs[:,0]), np.dot(evecs[:,0].T, szsz@evecs[:,0]) ))\n",
    "    \n",
    "\n",
    "pl.plot(glist, np.array(corr)[:,0],label='x-x')\n",
    "pl.plot(glist, np.array(corr)[:,1],label='z-z')\n",
    "\n",
    "pl.legend(loc='best')"
   ]
  },
  {
   "cell_type": "code",
   "execution_count": 157,
   "metadata": {},
   "outputs": [
    {
     "data": {
      "text/plain": [
       "[]"
      ]
     },
     "execution_count": 157,
     "metadata": {},
     "output_type": "execute_result"
    }
   ],
   "source": [
    "# correlation deep in the phase\n",
    "# calculate the correlation function as a function of site\n",
    "# system size\n",
    "Ll=6\n",
    "\n",
    "SxFull = [singlesiteoperators(Sx, L, Ll, Id) for L in range(Ll)]\n",
    "SzFull = [singlesiteoperators(Sz, L, Ll, Id) for L in range(Ll)]\n",
    "sxsx=[]\n",
    "for i in range(Ll//2+1):\n",
    "    sxsx.append( SxFull[0]*SxFull[i] )\n",
    "\n",
    "corr=[]\n",
    "g=10.0\n",
    "# create hamiltonian\n",
    "ham = ising_hamiltonian(Ll, SxFull, SzFull, g)\n",
    "# diagonalize\n",
    "evals, evecs = la.eigsh(ham, which='SA')\n",
    "\n",
    "corr=[ np.dot(evecs[:,0].T, sxsx[i]@evecs[:,0]) for i in range(Ll//2+1)]\n",
    "# print(corr)    \n",
    "\n",
    "pl.plot(1+np.arange(Ll//2+1), np.array(corr), '--+')\n",
    "\n",
    "pl.semilogy()\n",
    "# pl.semilogx()"
   ]
  }
 ],
 "metadata": {
  "kernelspec": {
   "display_name": "Python 3",
   "language": "python",
   "name": "python3"
  },
  "language_info": {
   "codemirror_mode": {
    "name": "ipython",
    "version": 3
   },
   "file_extension": ".py",
   "mimetype": "text/x-python",
   "name": "python",
   "nbconvert_exporter": "python",
   "pygments_lexer": "ipython3",
   "version": "3.7.1"
  }
 },
 "nbformat": 4,
 "nbformat_minor": 2
}
